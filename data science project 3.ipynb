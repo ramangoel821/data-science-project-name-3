{
 "cells": [
  {
   "cell_type": "code",
   "execution_count": 1,
   "id": "b5f6b833",
   "metadata": {},
   "outputs": [],
   "source": [
    "import numpy as np \n",
    "import pandas as pd \n",
    "\n",
    "import matplotlib.pyplot as plt\n",
    "%matplotlib inline\n",
    "from patsy import dmatrices\n",
    "import sklearn\n",
    "import seaborn as sns\n",
    "import warnings\n",
    "warnings.filterwarnings('ignore')"
   ]
  },
  {
   "cell_type": "code",
   "execution_count": 4,
   "id": "6cd5ec18",
   "metadata": {},
   "outputs": [],
   "source": [
    "df  = pd.read_excel(\"Project 3 datasets/train.xlsx\")"
   ]
  },
  {
   "cell_type": "code",
   "execution_count": 5,
   "id": "5b510edb",
   "metadata": {},
   "outputs": [
    {
     "data": {
      "text/html": [
       "<div>\n",
       "<style scoped>\n",
       "    .dataframe tbody tr th:only-of-type {\n",
       "        vertical-align: middle;\n",
       "    }\n",
       "\n",
       "    .dataframe tbody tr th {\n",
       "        vertical-align: top;\n",
       "    }\n",
       "\n",
       "    .dataframe thead th {\n",
       "        text-align: right;\n",
       "    }\n",
       "</style>\n",
       "<table border=\"1\" class=\"dataframe\">\n",
       "  <thead>\n",
       "    <tr style=\"text-align: right;\">\n",
       "      <th></th>\n",
       "      <th>InvoiceNo</th>\n",
       "      <th>StockCode</th>\n",
       "      <th>Description</th>\n",
       "      <th>Quantity</th>\n",
       "      <th>InvoiceDate</th>\n",
       "      <th>UnitPrice</th>\n",
       "      <th>CustomerID</th>\n",
       "      <th>Country</th>\n",
       "    </tr>\n",
       "  </thead>\n",
       "  <tbody>\n",
       "    <tr>\n",
       "      <th>0</th>\n",
       "      <td>558904</td>\n",
       "      <td>22292</td>\n",
       "      <td>HANGING CHICK  YELLOW DECORATION</td>\n",
       "      <td>1</td>\n",
       "      <td>2011-07-04 16:18:00</td>\n",
       "      <td>1.25</td>\n",
       "      <td>NaN</td>\n",
       "      <td>United Kingdom</td>\n",
       "    </tr>\n",
       "    <tr>\n",
       "      <th>1</th>\n",
       "      <td>556072</td>\n",
       "      <td>20970</td>\n",
       "      <td>PINK FLORAL FELTCRAFT SHOULDER BAG</td>\n",
       "      <td>8</td>\n",
       "      <td>2011-06-08 14:57:00</td>\n",
       "      <td>3.75</td>\n",
       "      <td>16126.0</td>\n",
       "      <td>United Kingdom</td>\n",
       "    </tr>\n",
       "    <tr>\n",
       "      <th>2</th>\n",
       "      <td>551739</td>\n",
       "      <td>21559</td>\n",
       "      <td>STRAWBERRY LUNCH BOX WITH CUTLERY</td>\n",
       "      <td>2</td>\n",
       "      <td>2011-05-04 10:58:00</td>\n",
       "      <td>2.55</td>\n",
       "      <td>18118.0</td>\n",
       "      <td>United Kingdom</td>\n",
       "    </tr>\n",
       "    <tr>\n",
       "      <th>3</th>\n",
       "      <td>541658</td>\n",
       "      <td>21988</td>\n",
       "      <td>PACK OF 6 SKULL PAPER PLATES</td>\n",
       "      <td>1</td>\n",
       "      <td>2011-01-20 12:16:00</td>\n",
       "      <td>0.85</td>\n",
       "      <td>15529.0</td>\n",
       "      <td>United Kingdom</td>\n",
       "    </tr>\n",
       "    <tr>\n",
       "      <th>4</th>\n",
       "      <td>538364</td>\n",
       "      <td>85099C</td>\n",
       "      <td>JUMBO  BAG BAROQUE BLACK WHITE</td>\n",
       "      <td>10</td>\n",
       "      <td>2010-12-10 17:26:00</td>\n",
       "      <td>1.95</td>\n",
       "      <td>14448.0</td>\n",
       "      <td>United Kingdom</td>\n",
       "    </tr>\n",
       "    <tr>\n",
       "      <th>...</th>\n",
       "      <td>...</td>\n",
       "      <td>...</td>\n",
       "      <td>...</td>\n",
       "      <td>...</td>\n",
       "      <td>...</td>\n",
       "      <td>...</td>\n",
       "      <td>...</td>\n",
       "      <td>...</td>\n",
       "    </tr>\n",
       "    <tr>\n",
       "      <th>379331</th>\n",
       "      <td>C554864</td>\n",
       "      <td>22962</td>\n",
       "      <td>JAM JAR WITH PINK LID</td>\n",
       "      <td>-4</td>\n",
       "      <td>2011-05-27 10:36:00</td>\n",
       "      <td>0.85</td>\n",
       "      <td>15122.0</td>\n",
       "      <td>United Kingdom</td>\n",
       "    </tr>\n",
       "    <tr>\n",
       "      <th>379332</th>\n",
       "      <td>539451</td>\n",
       "      <td>20749</td>\n",
       "      <td>ASSORTED COLOUR MINI CASES</td>\n",
       "      <td>1</td>\n",
       "      <td>2010-12-17 16:59:00</td>\n",
       "      <td>16.98</td>\n",
       "      <td>NaN</td>\n",
       "      <td>United Kingdom</td>\n",
       "    </tr>\n",
       "    <tr>\n",
       "      <th>379333</th>\n",
       "      <td>572302</td>\n",
       "      <td>22091</td>\n",
       "      <td>EMPIRE TISSUE BOX</td>\n",
       "      <td>1</td>\n",
       "      <td>2011-10-23 14:47:00</td>\n",
       "      <td>0.39</td>\n",
       "      <td>15427.0</td>\n",
       "      <td>United Kingdom</td>\n",
       "    </tr>\n",
       "    <tr>\n",
       "      <th>379334</th>\n",
       "      <td>559339</td>\n",
       "      <td>84946</td>\n",
       "      <td>ANTIQUE SILVER T-LIGHT GLASS</td>\n",
       "      <td>60</td>\n",
       "      <td>2011-07-07 16:49:00</td>\n",
       "      <td>1.25</td>\n",
       "      <td>13752.0</td>\n",
       "      <td>United Kingdom</td>\n",
       "    </tr>\n",
       "    <tr>\n",
       "      <th>379335</th>\n",
       "      <td>576771</td>\n",
       "      <td>23159</td>\n",
       "      <td>SET OF 5 PANCAKE DAY MAGNETS</td>\n",
       "      <td>12</td>\n",
       "      <td>2011-11-16 13:19:00</td>\n",
       "      <td>2.08</td>\n",
       "      <td>13285.0</td>\n",
       "      <td>United Kingdom</td>\n",
       "    </tr>\n",
       "  </tbody>\n",
       "</table>\n",
       "<p>379336 rows × 8 columns</p>\n",
       "</div>"
      ],
      "text/plain": [
       "       InvoiceNo StockCode                         Description  Quantity  \\\n",
       "0         558904     22292    HANGING CHICK  YELLOW DECORATION         1   \n",
       "1         556072     20970  PINK FLORAL FELTCRAFT SHOULDER BAG         8   \n",
       "2         551739     21559   STRAWBERRY LUNCH BOX WITH CUTLERY         2   \n",
       "3         541658     21988        PACK OF 6 SKULL PAPER PLATES         1   \n",
       "4         538364    85099C      JUMBO  BAG BAROQUE BLACK WHITE        10   \n",
       "...          ...       ...                                 ...       ...   \n",
       "379331   C554864     22962               JAM JAR WITH PINK LID        -4   \n",
       "379332    539451     20749          ASSORTED COLOUR MINI CASES         1   \n",
       "379333    572302     22091                   EMPIRE TISSUE BOX         1   \n",
       "379334    559339     84946        ANTIQUE SILVER T-LIGHT GLASS        60   \n",
       "379335    576771     23159        SET OF 5 PANCAKE DAY MAGNETS        12   \n",
       "\n",
       "               InvoiceDate  UnitPrice  CustomerID         Country  \n",
       "0      2011-07-04 16:18:00       1.25         NaN  United Kingdom  \n",
       "1      2011-06-08 14:57:00       3.75     16126.0  United Kingdom  \n",
       "2      2011-05-04 10:58:00       2.55     18118.0  United Kingdom  \n",
       "3      2011-01-20 12:16:00       0.85     15529.0  United Kingdom  \n",
       "4      2010-12-10 17:26:00       1.95     14448.0  United Kingdom  \n",
       "...                    ...        ...         ...             ...  \n",
       "379331 2011-05-27 10:36:00       0.85     15122.0  United Kingdom  \n",
       "379332 2010-12-17 16:59:00      16.98         NaN  United Kingdom  \n",
       "379333 2011-10-23 14:47:00       0.39     15427.0  United Kingdom  \n",
       "379334 2011-07-07 16:49:00       1.25     13752.0  United Kingdom  \n",
       "379335 2011-11-16 13:19:00       2.08     13285.0  United Kingdom  \n",
       "\n",
       "[379336 rows x 8 columns]"
      ]
     },
     "execution_count": 5,
     "metadata": {},
     "output_type": "execute_result"
    }
   ],
   "source": [
    "df"
   ]
  },
  {
   "cell_type": "code",
   "execution_count": 6,
   "id": "b892f008",
   "metadata": {},
   "outputs": [
    {
     "data": {
      "text/plain": [
       "<bound method NDFrame.describe of        InvoiceNo StockCode                         Description  Quantity  \\\n",
       "0         558904     22292    HANGING CHICK  YELLOW DECORATION         1   \n",
       "1         556072     20970  PINK FLORAL FELTCRAFT SHOULDER BAG         8   \n",
       "2         551739     21559   STRAWBERRY LUNCH BOX WITH CUTLERY         2   \n",
       "3         541658     21988        PACK OF 6 SKULL PAPER PLATES         1   \n",
       "4         538364    85099C      JUMBO  BAG BAROQUE BLACK WHITE        10   \n",
       "...          ...       ...                                 ...       ...   \n",
       "379331   C554864     22962               JAM JAR WITH PINK LID        -4   \n",
       "379332    539451     20749          ASSORTED COLOUR MINI CASES         1   \n",
       "379333    572302     22091                   EMPIRE TISSUE BOX         1   \n",
       "379334    559339     84946        ANTIQUE SILVER T-LIGHT GLASS        60   \n",
       "379335    576771     23159        SET OF 5 PANCAKE DAY MAGNETS        12   \n",
       "\n",
       "               InvoiceDate  UnitPrice  CustomerID         Country  \n",
       "0      2011-07-04 16:18:00       1.25         NaN  United Kingdom  \n",
       "1      2011-06-08 14:57:00       3.75     16126.0  United Kingdom  \n",
       "2      2011-05-04 10:58:00       2.55     18118.0  United Kingdom  \n",
       "3      2011-01-20 12:16:00       0.85     15529.0  United Kingdom  \n",
       "4      2010-12-10 17:26:00       1.95     14448.0  United Kingdom  \n",
       "...                    ...        ...         ...             ...  \n",
       "379331 2011-05-27 10:36:00       0.85     15122.0  United Kingdom  \n",
       "379332 2010-12-17 16:59:00      16.98         NaN  United Kingdom  \n",
       "379333 2011-10-23 14:47:00       0.39     15427.0  United Kingdom  \n",
       "379334 2011-07-07 16:49:00       1.25     13752.0  United Kingdom  \n",
       "379335 2011-11-16 13:19:00       2.08     13285.0  United Kingdom  \n",
       "\n",
       "[379336 rows x 8 columns]>"
      ]
     },
     "execution_count": 6,
     "metadata": {},
     "output_type": "execute_result"
    }
   ],
   "source": [
    "df.describe"
   ]
  },
  {
   "cell_type": "code",
   "execution_count": 7,
   "id": "02492b43",
   "metadata": {},
   "outputs": [
    {
     "data": {
      "text/plain": [
       "(379336, 8)"
      ]
     },
     "execution_count": 7,
     "metadata": {},
     "output_type": "execute_result"
    }
   ],
   "source": [
    "df.shape"
   ]
  },
  {
   "cell_type": "code",
   "execution_count": 8,
   "id": "09e13c12",
   "metadata": {},
   "outputs": [
    {
     "data": {
      "text/plain": [
       "Index(['InvoiceNo', 'StockCode', 'Description', 'Quantity', 'InvoiceDate',\n",
       "       'UnitPrice', 'CustomerID', 'Country'],\n",
       "      dtype='object')"
      ]
     },
     "execution_count": 8,
     "metadata": {},
     "output_type": "execute_result"
    }
   ],
   "source": [
    "df.columns"
   ]
  },
  {
   "cell_type": "code",
   "execution_count": 9,
   "id": "91a6df12",
   "metadata": {},
   "outputs": [
    {
     "data": {
      "text/html": [
       "<div>\n",
       "<style scoped>\n",
       "    .dataframe tbody tr th:only-of-type {\n",
       "        vertical-align: middle;\n",
       "    }\n",
       "\n",
       "    .dataframe tbody tr th {\n",
       "        vertical-align: top;\n",
       "    }\n",
       "\n",
       "    .dataframe thead th {\n",
       "        text-align: right;\n",
       "    }\n",
       "</style>\n",
       "<table border=\"1\" class=\"dataframe\">\n",
       "  <thead>\n",
       "    <tr style=\"text-align: right;\">\n",
       "      <th></th>\n",
       "      <th>StockCode</th>\n",
       "      <th>Description</th>\n",
       "      <th>Quantity</th>\n",
       "      <th>InvoiceDate</th>\n",
       "      <th>UnitPrice</th>\n",
       "      <th>CustomerID</th>\n",
       "      <th>Country</th>\n",
       "    </tr>\n",
       "  </thead>\n",
       "  <tbody>\n",
       "    <tr>\n",
       "      <th>1</th>\n",
       "      <td>20970</td>\n",
       "      <td>PINK FLORAL FELTCRAFT SHOULDER BAG</td>\n",
       "      <td>8</td>\n",
       "      <td>2011-06-08 14:57:00</td>\n",
       "      <td>3.75</td>\n",
       "      <td>16126.0</td>\n",
       "      <td>United Kingdom</td>\n",
       "    </tr>\n",
       "    <tr>\n",
       "      <th>2</th>\n",
       "      <td>21559</td>\n",
       "      <td>STRAWBERRY LUNCH BOX WITH CUTLERY</td>\n",
       "      <td>2</td>\n",
       "      <td>2011-05-04 10:58:00</td>\n",
       "      <td>2.55</td>\n",
       "      <td>18118.0</td>\n",
       "      <td>United Kingdom</td>\n",
       "    </tr>\n",
       "    <tr>\n",
       "      <th>3</th>\n",
       "      <td>21988</td>\n",
       "      <td>PACK OF 6 SKULL PAPER PLATES</td>\n",
       "      <td>1</td>\n",
       "      <td>2011-01-20 12:16:00</td>\n",
       "      <td>0.85</td>\n",
       "      <td>15529.0</td>\n",
       "      <td>United Kingdom</td>\n",
       "    </tr>\n",
       "    <tr>\n",
       "      <th>4</th>\n",
       "      <td>85099C</td>\n",
       "      <td>JUMBO  BAG BAROQUE BLACK WHITE</td>\n",
       "      <td>10</td>\n",
       "      <td>2010-12-10 17:26:00</td>\n",
       "      <td>1.95</td>\n",
       "      <td>14448.0</td>\n",
       "      <td>United Kingdom</td>\n",
       "    </tr>\n",
       "    <tr>\n",
       "      <th>5</th>\n",
       "      <td>84789</td>\n",
       "      <td>ENCHANTED BIRD PLANT CAGE</td>\n",
       "      <td>4</td>\n",
       "      <td>2011-05-08 15:20:00</td>\n",
       "      <td>3.75</td>\n",
       "      <td>13911.0</td>\n",
       "      <td>United Kingdom</td>\n",
       "    </tr>\n",
       "    <tr>\n",
       "      <th>...</th>\n",
       "      <td>...</td>\n",
       "      <td>...</td>\n",
       "      <td>...</td>\n",
       "      <td>...</td>\n",
       "      <td>...</td>\n",
       "      <td>...</td>\n",
       "      <td>...</td>\n",
       "    </tr>\n",
       "    <tr>\n",
       "      <th>379331</th>\n",
       "      <td>22962</td>\n",
       "      <td>JAM JAR WITH PINK LID</td>\n",
       "      <td>-4</td>\n",
       "      <td>2011-05-27 10:36:00</td>\n",
       "      <td>0.85</td>\n",
       "      <td>15122.0</td>\n",
       "      <td>United Kingdom</td>\n",
       "    </tr>\n",
       "    <tr>\n",
       "      <th>379332</th>\n",
       "      <td>20749</td>\n",
       "      <td>ASSORTED COLOUR MINI CASES</td>\n",
       "      <td>1</td>\n",
       "      <td>2010-12-17 16:59:00</td>\n",
       "      <td>16.98</td>\n",
       "      <td>NaN</td>\n",
       "      <td>United Kingdom</td>\n",
       "    </tr>\n",
       "    <tr>\n",
       "      <th>379333</th>\n",
       "      <td>22091</td>\n",
       "      <td>EMPIRE TISSUE BOX</td>\n",
       "      <td>1</td>\n",
       "      <td>2011-10-23 14:47:00</td>\n",
       "      <td>0.39</td>\n",
       "      <td>15427.0</td>\n",
       "      <td>United Kingdom</td>\n",
       "    </tr>\n",
       "    <tr>\n",
       "      <th>379334</th>\n",
       "      <td>84946</td>\n",
       "      <td>ANTIQUE SILVER T-LIGHT GLASS</td>\n",
       "      <td>60</td>\n",
       "      <td>2011-07-07 16:49:00</td>\n",
       "      <td>1.25</td>\n",
       "      <td>13752.0</td>\n",
       "      <td>United Kingdom</td>\n",
       "    </tr>\n",
       "    <tr>\n",
       "      <th>379335</th>\n",
       "      <td>23159</td>\n",
       "      <td>SET OF 5 PANCAKE DAY MAGNETS</td>\n",
       "      <td>12</td>\n",
       "      <td>2011-11-16 13:19:00</td>\n",
       "      <td>2.08</td>\n",
       "      <td>13285.0</td>\n",
       "      <td>United Kingdom</td>\n",
       "    </tr>\n",
       "  </tbody>\n",
       "</table>\n",
       "<p>379335 rows × 7 columns</p>\n",
       "</div>"
      ],
      "text/plain": [
       "       StockCode                         Description  Quantity  \\\n",
       "1          20970  PINK FLORAL FELTCRAFT SHOULDER BAG         8   \n",
       "2          21559   STRAWBERRY LUNCH BOX WITH CUTLERY         2   \n",
       "3          21988        PACK OF 6 SKULL PAPER PLATES         1   \n",
       "4         85099C      JUMBO  BAG BAROQUE BLACK WHITE        10   \n",
       "5          84789           ENCHANTED BIRD PLANT CAGE         4   \n",
       "...          ...                                 ...       ...   \n",
       "379331     22962               JAM JAR WITH PINK LID        -4   \n",
       "379332     20749          ASSORTED COLOUR MINI CASES         1   \n",
       "379333     22091                   EMPIRE TISSUE BOX         1   \n",
       "379334     84946        ANTIQUE SILVER T-LIGHT GLASS        60   \n",
       "379335     23159        SET OF 5 PANCAKE DAY MAGNETS        12   \n",
       "\n",
       "               InvoiceDate  UnitPrice  CustomerID         Country  \n",
       "1      2011-06-08 14:57:00       3.75     16126.0  United Kingdom  \n",
       "2      2011-05-04 10:58:00       2.55     18118.0  United Kingdom  \n",
       "3      2011-01-20 12:16:00       0.85     15529.0  United Kingdom  \n",
       "4      2010-12-10 17:26:00       1.95     14448.0  United Kingdom  \n",
       "5      2011-05-08 15:20:00       3.75     13911.0  United Kingdom  \n",
       "...                    ...        ...         ...             ...  \n",
       "379331 2011-05-27 10:36:00       0.85     15122.0  United Kingdom  \n",
       "379332 2010-12-17 16:59:00      16.98         NaN  United Kingdom  \n",
       "379333 2011-10-23 14:47:00       0.39     15427.0  United Kingdom  \n",
       "379334 2011-07-07 16:49:00       1.25     13752.0  United Kingdom  \n",
       "379335 2011-11-16 13:19:00       2.08     13285.0  United Kingdom  \n",
       "\n",
       "[379335 rows x 7 columns]"
      ]
     },
     "execution_count": 9,
     "metadata": {},
     "output_type": "execute_result"
    }
   ],
   "source": [
    "df.iloc[1:,1:]"
   ]
  },
  {
   "cell_type": "code",
   "execution_count": 10,
   "id": "8a88bcf4",
   "metadata": {},
   "outputs": [
    {
     "data": {
      "text/plain": [
       "InvoiceNo              object\n",
       "StockCode              object\n",
       "Description            object\n",
       "Quantity                int64\n",
       "InvoiceDate    datetime64[ns]\n",
       "UnitPrice             float64\n",
       "CustomerID            float64\n",
       "Country                object\n",
       "dtype: object"
      ]
     },
     "execution_count": 10,
     "metadata": {},
     "output_type": "execute_result"
    }
   ],
   "source": [
    "df.dtypes"
   ]
  },
  {
   "cell_type": "code",
   "execution_count": 25,
   "id": "ac6993ac",
   "metadata": {},
   "outputs": [],
   "source": [
    "correlation=df.corr()"
   ]
  },
  {
   "cell_type": "code",
   "execution_count": 12,
   "id": "2aa850c9",
   "metadata": {},
   "outputs": [
    {
     "data": {
      "text/plain": [
       "InvoiceNo          0\n",
       "StockCode          0\n",
       "Description      963\n",
       "Quantity           0\n",
       "InvoiceDate        0\n",
       "UnitPrice          0\n",
       "CustomerID     94260\n",
       "Country            0\n",
       "dtype: int64"
      ]
     },
     "execution_count": 12,
     "metadata": {},
     "output_type": "execute_result"
    }
   ],
   "source": [
    "df.isnull().sum()"
   ]
  },
  {
   "cell_type": "code",
   "execution_count": 13,
   "id": "dd916035",
   "metadata": {},
   "outputs": [
    {
     "data": {
      "text/plain": [
       "InvoiceNo       0.000000\n",
       "StockCode       0.000000\n",
       "Description     0.253865\n",
       "Quantity        0.000000\n",
       "InvoiceDate     0.000000\n",
       "UnitPrice       0.000000\n",
       "CustomerID     24.848683\n",
       "Country         0.000000\n",
       "dtype: float64"
      ]
     },
     "execution_count": 13,
     "metadata": {},
     "output_type": "execute_result"
    }
   ],
   "source": [
    "df.isnull().sum()/len(df)*100"
   ]
  },
  {
   "cell_type": "code",
   "execution_count": 14,
   "id": "4304ba61",
   "metadata": {},
   "outputs": [],
   "source": [
    "df = df.drop(\"CustomerID\", axis=1)"
   ]
  },
  {
   "cell_type": "code",
   "execution_count": 33,
   "id": "9aca969b",
   "metadata": {},
   "outputs": [],
   "source": [
    "df = df.drop(\"InvoiceDate\", axis=1)"
   ]
  },
  {
   "cell_type": "code",
   "execution_count": 35,
   "id": "a612d38d",
   "metadata": {},
   "outputs": [],
   "source": [
    "df = df.drop(\"Description\", axis=1)"
   ]
  },
  {
   "cell_type": "code",
   "execution_count": 37,
   "id": "1ab6a965",
   "metadata": {},
   "outputs": [],
   "source": [
    "df[\"Country\"] = df[\"Country\"].astype(\"category\")"
   ]
  },
  {
   "cell_type": "code",
   "execution_count": 40,
   "id": "070ab4ee",
   "metadata": {},
   "outputs": [
    {
     "data": {
      "text/plain": [
       "InvoiceNo      object\n",
       "StockCode      object\n",
       "Quantity        int64\n",
       "UnitPrice     float64\n",
       "Country      category\n",
       "dtype: object"
      ]
     },
     "execution_count": 40,
     "metadata": {},
     "output_type": "execute_result"
    }
   ],
   "source": [
    "df.dtypes"
   ]
  },
  {
   "cell_type": "code",
   "execution_count": 41,
   "id": "574f1cc0",
   "metadata": {},
   "outputs": [
    {
     "data": {
      "text/plain": [
       "InvoiceNo    0.0\n",
       "StockCode    0.0\n",
       "Quantity     0.0\n",
       "UnitPrice    0.0\n",
       "Country      0.0\n",
       "dtype: float64"
      ]
     },
     "execution_count": 41,
     "metadata": {},
     "output_type": "execute_result"
    }
   ],
   "source": [
    "df.isnull().sum()/len(df)*100"
   ]
  },
  {
   "cell_type": "code",
   "execution_count": 42,
   "id": "72fbe3fd",
   "metadata": {},
   "outputs": [
    {
     "data": {
      "text/html": [
       "<div>\n",
       "<style scoped>\n",
       "    .dataframe tbody tr th:only-of-type {\n",
       "        vertical-align: middle;\n",
       "    }\n",
       "\n",
       "    .dataframe tbody tr th {\n",
       "        vertical-align: top;\n",
       "    }\n",
       "\n",
       "    .dataframe thead th {\n",
       "        text-align: right;\n",
       "    }\n",
       "</style>\n",
       "<table border=\"1\" class=\"dataframe\">\n",
       "  <thead>\n",
       "    <tr style=\"text-align: right;\">\n",
       "      <th></th>\n",
       "      <th>Quantity</th>\n",
       "      <th>UnitPrice</th>\n",
       "    </tr>\n",
       "  </thead>\n",
       "  <tbody>\n",
       "    <tr>\n",
       "      <th>count</th>\n",
       "      <td>379336.000000</td>\n",
       "      <td>379336.000000</td>\n",
       "    </tr>\n",
       "    <tr>\n",
       "      <th>mean</th>\n",
       "      <td>9.517272</td>\n",
       "      <td>4.681474</td>\n",
       "    </tr>\n",
       "    <tr>\n",
       "      <th>std</th>\n",
       "      <td>259.070548</td>\n",
       "      <td>105.799352</td>\n",
       "    </tr>\n",
       "    <tr>\n",
       "      <th>min</th>\n",
       "      <td>-80995.000000</td>\n",
       "      <td>-11062.060000</td>\n",
       "    </tr>\n",
       "    <tr>\n",
       "      <th>25%</th>\n",
       "      <td>1.000000</td>\n",
       "      <td>1.250000</td>\n",
       "    </tr>\n",
       "    <tr>\n",
       "      <th>50%</th>\n",
       "      <td>3.000000</td>\n",
       "      <td>2.080000</td>\n",
       "    </tr>\n",
       "    <tr>\n",
       "      <th>75%</th>\n",
       "      <td>10.000000</td>\n",
       "      <td>4.130000</td>\n",
       "    </tr>\n",
       "    <tr>\n",
       "      <th>max</th>\n",
       "      <td>80995.000000</td>\n",
       "      <td>38970.000000</td>\n",
       "    </tr>\n",
       "  </tbody>\n",
       "</table>\n",
       "</div>"
      ],
      "text/plain": [
       "            Quantity      UnitPrice\n",
       "count  379336.000000  379336.000000\n",
       "mean        9.517272       4.681474\n",
       "std       259.070548     105.799352\n",
       "min    -80995.000000  -11062.060000\n",
       "25%         1.000000       1.250000\n",
       "50%         3.000000       2.080000\n",
       "75%        10.000000       4.130000\n",
       "max     80995.000000   38970.000000"
      ]
     },
     "execution_count": 42,
     "metadata": {},
     "output_type": "execute_result"
    }
   ],
   "source": [
    "df.describe()"
   ]
  },
  {
   "cell_type": "code",
   "execution_count": 43,
   "id": "7c49d276",
   "metadata": {},
   "outputs": [
    {
     "data": {
      "text/plain": [
       "array([     1,      8,      2,     10,      4,      3,      6,     48,\n",
       "           12,     24,      5,     32,     36,     20,     22,     13,\n",
       "           16,     25,      7,    100,     50,     18,     72,    504,\n",
       "           14,    200,      9,    240,     30,     -9,    120,    640,\n",
       "          128,     15,     -1,     19,     96,     21,     35,     29,\n",
       "           11,    480,    288,     40,    192,   2560,    -23,     -6,\n",
       "           17,     80,     -8,    -11,    -24,     60,     -4,   -120,\n",
       "          216,     -5,     26,     43,     23,     65,    -10,    576,\n",
       "           31,     42,    144,     -7,     -2,     -3,    -36,    448,\n",
       "          -61,     27,    108,    -20,  -1128,  -1515,    104,    -65,\n",
       "          -15,    -12,    400,    -18,    720,    324,    250,     64,\n",
       "           54,    312,    280,    -34,   -147,    360,   -111,     28,\n",
       "          111,    -70,    300,    160,   3114,    384,    105,    -32,\n",
       "           56,   -192,    102,     41,     55,    320,     37,     71,\n",
       "          -47,     78,   1824,    -21,     39,    123,    -72,    150,\n",
       "          228,    432,     85,    -40,   1296,     69,    -45,     84,\n",
       "         -223,   1440,    -48,    -53,    252,    -74,     49,   -252,\n",
       "           74,     33,    -96,     90,     53,     87,    -90,   -144,\n",
       "          101,   1944,    608,   4800,    -82,   -153,   -600,     89,\n",
       "          168,    -49,    -14,     70,     34,  -1284,    500,   2400,\n",
       "           47,   1020,   -203,    -35,   -220,    -16,    -66,    -33,\n",
       "          132,    180,    -17,    701,     66,    215,    -59,    -22,\n",
       "         -100,    -43,     68,    125,    -44,    114,    181,    -25,\n",
       "          246,    176,  -2376,   -200,   1152,    -19,    768,    -75,\n",
       "          156,     75,    -80,    -51,   -139,     86,    -39,     67,\n",
       "         -675,    344,   1300,    184,    600,     97,    -38,     57,\n",
       "         -250,     38,   -420,    121,    -29,    -50,    126,   -113,\n",
       "          140,   -240,    -30,     62,    -13,     45,     82,    -60,\n",
       "         2100,    -93,   -138,   -468,    137,     88,   -140,   1200,\n",
       "         -334,   -160,   -130,    -28,   -304,     61,   -180,   -434,\n",
       "          -84,   -117,   1000,    824,  80995,     46,  -1200,    350,\n",
       "          864,    -58,   -458,    684,    620,    186,   -408,     83,\n",
       "         -101,     98,    402,    744,    -54,    -31,    -37,     44,\n",
       "           58,   -158,   -267,   -696,    129,    408,    906,    224,\n",
       "         -524,   -235,   -430,    212,    256,   -300,     63,    227,\n",
       "          -52,    310,    -26,     81,     52,  -2003,    158,   -345,\n",
       "          170,   -975,    612,   -720,    660,    272,   -184,    193,\n",
       "         -135,     95,    141,   -750,    155,    666,    219,  -5368,\n",
       "        -2834,    407,   -335,    270,   -455,    -63,    -46,    122,\n",
       "          167,    279,    130,   -288,    171,  -9600,   -110,    135,\n",
       "        -1479,    323,   1120,     93,    110,    -55,   -360,   -207,\n",
       "        -1671,    -64,    164,    106,   1500,   -108,   -244,     92,\n",
       "           73,     79,    462,   -390,   -432,    -98,    828,   -114,\n",
       "          496,    208,   -530,   -232,  -2600,    220,    236,    -41,\n",
       "         -338,    109,    165,   -212,    149,    588,   -428,     76,\n",
       "         -169,   4000,    352,    204,    112,     94,  -9360,    -42,\n",
       "          -27,    396,    147,    -94,    -99,    113,     51,    760,\n",
       "        -1440,   -690,    152,    456,    336,    -62,     91,   -105,\n",
       "          960,    232,   3100,    416,   1930,    117,    264,    138,\n",
       "        -2618,   -900,   -967,    118,   -124,    -57,   -443,    261,\n",
       "         -102,    -77,   -206,   -177,   -840,   2880,   -337,  -1100,\n",
       "         1356,    211,    -73,    800,   2000,   -960,    637,    900,\n",
       "          115,   -541,    267,   2700,     59,    268,    163,   -173,\n",
       "         -752,    142,   4300,    654,   -270,   1900,    670,    840,\n",
       "         -131,    -69,   -118,   1404,    -87,    107,   -152,    -97,\n",
       "         -380,    968,    248,    210,    -67,  -4830,   -150,    468,\n",
       "          348,   1394,   -290,   -624,    139,   1515,   5568,   1284,\n",
       "         -186,    276,    188,   -179,   -145,  12540,    378,   -504,\n",
       "          -76,   -106,  -9058,   1056,   -306, -74215,    -95,    148,\n",
       "          630,    255,  -1050,    688,    696,   -618,    560,    430,\n",
       "          131,    177,   -154,   -217,    374,   -590,   1788,    708,\n",
       "          -68,    -86,    326,    222,     99,    257,   -553,  -1300,\n",
       "         1540,    420,    672,   2160,    116,  -1430,   -230,   -413,\n",
       "         -151,   -723,  -1060,   -620,  -1158,    700,    490,   1008,\n",
       "         -103,   -170,   -480,   -741,  -2472,   -162,    249,    738,\n",
       "          151,   -109,    624,  -1400,    124,   -115,    197,    342,\n",
       "         -132,   -126,    198,    888,    648,    145,    225,   -194,\n",
       "         -990,    852,    860,    244,   -178,  -1897,    -71,    484,\n",
       "         -472,    230,   -188,    205,  -1000,   3186, -80995,   2040,\n",
       "         -400,   -242,  -1512,   -576,    245,    410,    682,   1400,\n",
       "        -1930,    153,    698,   1992,   -256,   -450,    -81,  -1131,\n",
       "         -635,    388,    157,   -398,    -78,   1728,   -204,    -92,\n",
       "          478,   -201,  -1560,    972,   -168,  74215,   -365,    179,\n",
       "         -156,   -112,   -939,   -384,   -209,    162,    492,   1350,\n",
       "          752,  -1296,  -1277,   3000,   -484,    133,    136,    450,\n",
       "          143,   -355,   -251,    175,    540,   1820,   -175,   -129,\n",
       "          234,  -3114,   -125,   3906,    242,  -1121,   1600,    375,\n",
       "         -343,   -864,   -664])"
      ]
     },
     "execution_count": 43,
     "metadata": {},
     "output_type": "execute_result"
    }
   ],
   "source": [
    "df['Quantity'].unique()"
   ]
  },
  {
   "cell_type": "code",
   "execution_count": 44,
   "id": "aaab545d",
   "metadata": {},
   "outputs": [
    {
     "data": {
      "text/plain": [
       "array([  1.25,   3.75,   2.55, ...,  33.17, 218.64, 337.23])"
      ]
     },
     "execution_count": 44,
     "metadata": {},
     "output_type": "execute_result"
    }
   ],
   "source": [
    "df[\"UnitPrice\"].unique()"
   ]
  },
  {
   "cell_type": "code",
   "execution_count": 45,
   "id": "526e66a4",
   "metadata": {},
   "outputs": [
    {
     "data": {
      "text/plain": [
       "['United Kingdom', 'Channel Islands', 'Poland', 'France', 'Belgium', ..., 'Brazil', 'Lebanon', 'Greece', 'RSA', 'Saudi Arabia']\n",
       "Length: 38\n",
       "Categories (38, object): ['United Kingdom', 'Channel Islands', 'Poland', 'France', ..., 'Lebanon', 'Greece', 'RSA', 'Saudi Arabia']"
      ]
     },
     "execution_count": 45,
     "metadata": {},
     "output_type": "execute_result"
    }
   ],
   "source": [
    "df[\"Country\"].unique()"
   ]
  },
  {
   "cell_type": "code",
   "execution_count": 46,
   "id": "e49798de",
   "metadata": {},
   "outputs": [
    {
     "data": {
      "text/plain": [
       "array([22292, 20970, 21559, ..., '85018C', 84455, 'DCGS0074'],\n",
       "      dtype=object)"
      ]
     },
     "execution_count": 46,
     "metadata": {},
     "output_type": "execute_result"
    }
   ],
   "source": [
    "df[\"StockCode\"].unique()"
   ]
  },
  {
   "cell_type": "code",
   "execution_count": 47,
   "id": "ce144003",
   "metadata": {},
   "outputs": [
    {
     "ename": "KeyError",
     "evalue": "'Description'",
     "output_type": "error",
     "traceback": [
      "\u001b[0;31m---------------------------------------------------------------------------\u001b[0m",
      "\u001b[0;31mKeyError\u001b[0m                                  Traceback (most recent call last)",
      "\u001b[0;32m~/opt/anaconda3/lib/python3.8/site-packages/pandas/core/indexes/base.py\u001b[0m in \u001b[0;36mget_loc\u001b[0;34m(self, key, method, tolerance)\u001b[0m\n\u001b[1;32m   3079\u001b[0m             \u001b[0;32mtry\u001b[0m\u001b[0;34m:\u001b[0m\u001b[0;34m\u001b[0m\u001b[0;34m\u001b[0m\u001b[0m\n\u001b[0;32m-> 3080\u001b[0;31m                 \u001b[0;32mreturn\u001b[0m \u001b[0mself\u001b[0m\u001b[0;34m.\u001b[0m\u001b[0m_engine\u001b[0m\u001b[0;34m.\u001b[0m\u001b[0mget_loc\u001b[0m\u001b[0;34m(\u001b[0m\u001b[0mcasted_key\u001b[0m\u001b[0;34m)\u001b[0m\u001b[0;34m\u001b[0m\u001b[0;34m\u001b[0m\u001b[0m\n\u001b[0m\u001b[1;32m   3081\u001b[0m             \u001b[0;32mexcept\u001b[0m \u001b[0mKeyError\u001b[0m \u001b[0;32mas\u001b[0m \u001b[0merr\u001b[0m\u001b[0;34m:\u001b[0m\u001b[0;34m\u001b[0m\u001b[0;34m\u001b[0m\u001b[0m\n",
      "\u001b[0;32mpandas/_libs/index.pyx\u001b[0m in \u001b[0;36mpandas._libs.index.IndexEngine.get_loc\u001b[0;34m()\u001b[0m\n",
      "\u001b[0;32mpandas/_libs/index.pyx\u001b[0m in \u001b[0;36mpandas._libs.index.IndexEngine.get_loc\u001b[0;34m()\u001b[0m\n",
      "\u001b[0;32mpandas/_libs/hashtable_class_helper.pxi\u001b[0m in \u001b[0;36mpandas._libs.hashtable.PyObjectHashTable.get_item\u001b[0;34m()\u001b[0m\n",
      "\u001b[0;32mpandas/_libs/hashtable_class_helper.pxi\u001b[0m in \u001b[0;36mpandas._libs.hashtable.PyObjectHashTable.get_item\u001b[0;34m()\u001b[0m\n",
      "\u001b[0;31mKeyError\u001b[0m: 'Description'",
      "\nThe above exception was the direct cause of the following exception:\n",
      "\u001b[0;31mKeyError\u001b[0m                                  Traceback (most recent call last)",
      "\u001b[0;32m<ipython-input-47-901bce24c9bd>\u001b[0m in \u001b[0;36m<module>\u001b[0;34m\u001b[0m\n\u001b[0;32m----> 1\u001b[0;31m \u001b[0mdf\u001b[0m\u001b[0;34m[\u001b[0m\u001b[0;34m\"Description\"\u001b[0m\u001b[0;34m]\u001b[0m\u001b[0;34m.\u001b[0m\u001b[0munique\u001b[0m\u001b[0;34m(\u001b[0m\u001b[0;34m)\u001b[0m\u001b[0;34m\u001b[0m\u001b[0;34m\u001b[0m\u001b[0m\n\u001b[0m",
      "\u001b[0;32m~/opt/anaconda3/lib/python3.8/site-packages/pandas/core/frame.py\u001b[0m in \u001b[0;36m__getitem__\u001b[0;34m(self, key)\u001b[0m\n\u001b[1;32m   3022\u001b[0m             \u001b[0;32mif\u001b[0m \u001b[0mself\u001b[0m\u001b[0;34m.\u001b[0m\u001b[0mcolumns\u001b[0m\u001b[0;34m.\u001b[0m\u001b[0mnlevels\u001b[0m \u001b[0;34m>\u001b[0m \u001b[0;36m1\u001b[0m\u001b[0;34m:\u001b[0m\u001b[0;34m\u001b[0m\u001b[0;34m\u001b[0m\u001b[0m\n\u001b[1;32m   3023\u001b[0m                 \u001b[0;32mreturn\u001b[0m \u001b[0mself\u001b[0m\u001b[0;34m.\u001b[0m\u001b[0m_getitem_multilevel\u001b[0m\u001b[0;34m(\u001b[0m\u001b[0mkey\u001b[0m\u001b[0;34m)\u001b[0m\u001b[0;34m\u001b[0m\u001b[0;34m\u001b[0m\u001b[0m\n\u001b[0;32m-> 3024\u001b[0;31m             \u001b[0mindexer\u001b[0m \u001b[0;34m=\u001b[0m \u001b[0mself\u001b[0m\u001b[0;34m.\u001b[0m\u001b[0mcolumns\u001b[0m\u001b[0;34m.\u001b[0m\u001b[0mget_loc\u001b[0m\u001b[0;34m(\u001b[0m\u001b[0mkey\u001b[0m\u001b[0;34m)\u001b[0m\u001b[0;34m\u001b[0m\u001b[0;34m\u001b[0m\u001b[0m\n\u001b[0m\u001b[1;32m   3025\u001b[0m             \u001b[0;32mif\u001b[0m \u001b[0mis_integer\u001b[0m\u001b[0;34m(\u001b[0m\u001b[0mindexer\u001b[0m\u001b[0;34m)\u001b[0m\u001b[0;34m:\u001b[0m\u001b[0;34m\u001b[0m\u001b[0;34m\u001b[0m\u001b[0m\n\u001b[1;32m   3026\u001b[0m                 \u001b[0mindexer\u001b[0m \u001b[0;34m=\u001b[0m \u001b[0;34m[\u001b[0m\u001b[0mindexer\u001b[0m\u001b[0;34m]\u001b[0m\u001b[0;34m\u001b[0m\u001b[0;34m\u001b[0m\u001b[0m\n",
      "\u001b[0;32m~/opt/anaconda3/lib/python3.8/site-packages/pandas/core/indexes/base.py\u001b[0m in \u001b[0;36mget_loc\u001b[0;34m(self, key, method, tolerance)\u001b[0m\n\u001b[1;32m   3080\u001b[0m                 \u001b[0;32mreturn\u001b[0m \u001b[0mself\u001b[0m\u001b[0;34m.\u001b[0m\u001b[0m_engine\u001b[0m\u001b[0;34m.\u001b[0m\u001b[0mget_loc\u001b[0m\u001b[0;34m(\u001b[0m\u001b[0mcasted_key\u001b[0m\u001b[0;34m)\u001b[0m\u001b[0;34m\u001b[0m\u001b[0;34m\u001b[0m\u001b[0m\n\u001b[1;32m   3081\u001b[0m             \u001b[0;32mexcept\u001b[0m \u001b[0mKeyError\u001b[0m \u001b[0;32mas\u001b[0m \u001b[0merr\u001b[0m\u001b[0;34m:\u001b[0m\u001b[0;34m\u001b[0m\u001b[0;34m\u001b[0m\u001b[0m\n\u001b[0;32m-> 3082\u001b[0;31m                 \u001b[0;32mraise\u001b[0m \u001b[0mKeyError\u001b[0m\u001b[0;34m(\u001b[0m\u001b[0mkey\u001b[0m\u001b[0;34m)\u001b[0m \u001b[0;32mfrom\u001b[0m \u001b[0merr\u001b[0m\u001b[0;34m\u001b[0m\u001b[0;34m\u001b[0m\u001b[0m\n\u001b[0m\u001b[1;32m   3083\u001b[0m \u001b[0;34m\u001b[0m\u001b[0m\n\u001b[1;32m   3084\u001b[0m         \u001b[0;32mif\u001b[0m \u001b[0mtolerance\u001b[0m \u001b[0;32mis\u001b[0m \u001b[0;32mnot\u001b[0m \u001b[0;32mNone\u001b[0m\u001b[0;34m:\u001b[0m\u001b[0;34m\u001b[0m\u001b[0;34m\u001b[0m\u001b[0m\n",
      "\u001b[0;31mKeyError\u001b[0m: 'Description'"
     ]
    }
   ],
   "source": [
    "df[\"Description\"].unique()"
   ]
  },
  {
   "cell_type": "code",
   "execution_count": 48,
   "id": "5b913445",
   "metadata": {},
   "outputs": [
    {
     "data": {
      "text/plain": [
       "<AxesSubplot:>"
      ]
     },
     "execution_count": 48,
     "metadata": {},
     "output_type": "execute_result"
    },
    {
     "data": {
      "image/png": "[encoded data removed]",
      "text/plain": [
       "<Figure size 432x288 with 2 Axes>"
      ]
     },
     "metadata": {
      "needs_background": "light"
     },
     "output_type": "display_data"
    }
   ],
   "source": [
    "sns.heatmap(correlation,square=True,vmax=0.8)"
   ]
  },
  {
   "cell_type": "code",
   "execution_count": 49,
   "id": "25c3b7b7",
   "metadata": {},
   "outputs": [],
   "source": [
    "df1  = pd.read_excel(\"Project 3 datasets/test.xlsx\")"
   ]
  },
  {
   "cell_type": "code",
   "execution_count": 50,
   "id": "ea0907ea",
   "metadata": {},
   "outputs": [
    {
     "data": {
      "text/html": [
       "<div>\n",
       "<style scoped>\n",
       "    .dataframe tbody tr th:only-of-type {\n",
       "        vertical-align: middle;\n",
       "    }\n",
       "\n",
       "    .dataframe tbody tr th {\n",
       "        vertical-align: top;\n",
       "    }\n",
       "\n",
       "    .dataframe thead th {\n",
       "        text-align: right;\n",
       "    }\n",
       "</style>\n",
       "<table border=\"1\" class=\"dataframe\">\n",
       "  <thead>\n",
       "    <tr style=\"text-align: right;\">\n",
       "      <th></th>\n",
       "      <th>InvoiceNo</th>\n",
       "      <th>StockCode</th>\n",
       "      <th>Description</th>\n",
       "      <th>Quantity</th>\n",
       "      <th>InvoiceDate</th>\n",
       "      <th>UnitPrice</th>\n",
       "      <th>CustomerID</th>\n",
       "      <th>Country</th>\n",
       "    </tr>\n",
       "  </thead>\n",
       "  <tbody>\n",
       "    <tr>\n",
       "      <th>0</th>\n",
       "      <td>562955</td>\n",
       "      <td>84660c</td>\n",
       "      <td>PINK STITCHED WALL CLOCK</td>\n",
       "      <td>3</td>\n",
       "      <td>2011-08-11 10:14:00</td>\n",
       "      <td>7.46</td>\n",
       "      <td>NaN</td>\n",
       "      <td>United Kingdom</td>\n",
       "    </tr>\n",
       "    <tr>\n",
       "      <th>1</th>\n",
       "      <td>548451</td>\n",
       "      <td>22707</td>\n",
       "      <td>WRAP MONSTER FUN</td>\n",
       "      <td>50</td>\n",
       "      <td>2011-03-31 11:25:00</td>\n",
       "      <td>0.42</td>\n",
       "      <td>17365.0</td>\n",
       "      <td>United Kingdom</td>\n",
       "    </tr>\n",
       "    <tr>\n",
       "      <th>2</th>\n",
       "      <td>568180</td>\n",
       "      <td>22534</td>\n",
       "      <td>MAGIC DRAWING SLATE SPACEBOY</td>\n",
       "      <td>12</td>\n",
       "      <td>2011-09-25 13:42:00</td>\n",
       "      <td>0.42</td>\n",
       "      <td>15429.0</td>\n",
       "      <td>United Kingdom</td>\n",
       "    </tr>\n",
       "    <tr>\n",
       "      <th>3</th>\n",
       "      <td>577078</td>\n",
       "      <td>47369B</td>\n",
       "      <td>BLUE GREEN EMBROIDERY COSMETIC BAG</td>\n",
       "      <td>1</td>\n",
       "      <td>2011-11-17 15:17:00</td>\n",
       "      <td>5.79</td>\n",
       "      <td>NaN</td>\n",
       "      <td>United Kingdom</td>\n",
       "    </tr>\n",
       "    <tr>\n",
       "      <th>4</th>\n",
       "      <td>C569891</td>\n",
       "      <td>22720</td>\n",
       "      <td>SET OF 3 CAKE TINS PANTRY DESIGN</td>\n",
       "      <td>-2</td>\n",
       "      <td>2011-10-06 15:46:00</td>\n",
       "      <td>4.95</td>\n",
       "      <td>13924.0</td>\n",
       "      <td>United Kingdom</td>\n",
       "    </tr>\n",
       "    <tr>\n",
       "      <th>...</th>\n",
       "      <td>...</td>\n",
       "      <td>...</td>\n",
       "      <td>...</td>\n",
       "      <td>...</td>\n",
       "      <td>...</td>\n",
       "      <td>...</td>\n",
       "      <td>...</td>\n",
       "      <td>...</td>\n",
       "    </tr>\n",
       "    <tr>\n",
       "      <th>162568</th>\n",
       "      <td>574102</td>\n",
       "      <td>22866</td>\n",
       "      <td>HAND WARMER SCOTTY DOG DESIGN</td>\n",
       "      <td>24</td>\n",
       "      <td>2011-11-03 10:27:00</td>\n",
       "      <td>2.10</td>\n",
       "      <td>16128.0</td>\n",
       "      <td>United Kingdom</td>\n",
       "    </tr>\n",
       "    <tr>\n",
       "      <th>162569</th>\n",
       "      <td>545226</td>\n",
       "      <td>22919</td>\n",
       "      <td>HERB MARKER MINT</td>\n",
       "      <td>12</td>\n",
       "      <td>2011-03-01 09:33:00</td>\n",
       "      <td>0.65</td>\n",
       "      <td>12428.0</td>\n",
       "      <td>Finland</td>\n",
       "    </tr>\n",
       "    <tr>\n",
       "      <th>162570</th>\n",
       "      <td>573160</td>\n",
       "      <td>22077</td>\n",
       "      <td>6 RIBBONS RUSTIC CHARM</td>\n",
       "      <td>12</td>\n",
       "      <td>2011-10-28 08:58:00</td>\n",
       "      <td>1.95</td>\n",
       "      <td>14359.0</td>\n",
       "      <td>United Kingdom</td>\n",
       "    </tr>\n",
       "    <tr>\n",
       "      <th>162571</th>\n",
       "      <td>552321</td>\n",
       "      <td>23204</td>\n",
       "      <td>CHARLOTTE BAG APPLES DESIGN</td>\n",
       "      <td>10</td>\n",
       "      <td>2011-05-09 09:15:00</td>\n",
       "      <td>0.85</td>\n",
       "      <td>17049.0</td>\n",
       "      <td>United Kingdom</td>\n",
       "    </tr>\n",
       "    <tr>\n",
       "      <th>162572</th>\n",
       "      <td>573359</td>\n",
       "      <td>21983</td>\n",
       "      <td>PACK OF 12 BLUE PAISLEY TISSUES</td>\n",
       "      <td>4</td>\n",
       "      <td>2011-10-30 12:48:00</td>\n",
       "      <td>0.39</td>\n",
       "      <td>14178.0</td>\n",
       "      <td>United Kingdom</td>\n",
       "    </tr>\n",
       "  </tbody>\n",
       "</table>\n",
       "<p>162573 rows × 8 columns</p>\n",
       "</div>"
      ],
      "text/plain": [
       "       InvoiceNo StockCode                         Description  Quantity  \\\n",
       "0         562955    84660c            PINK STITCHED WALL CLOCK         3   \n",
       "1         548451     22707                   WRAP MONSTER FUN         50   \n",
       "2         568180     22534       MAGIC DRAWING SLATE SPACEBOY         12   \n",
       "3         577078    47369B  BLUE GREEN EMBROIDERY COSMETIC BAG         1   \n",
       "4        C569891     22720   SET OF 3 CAKE TINS PANTRY DESIGN         -2   \n",
       "...          ...       ...                                 ...       ...   \n",
       "162568    574102     22866       HAND WARMER SCOTTY DOG DESIGN        24   \n",
       "162569    545226     22919                    HERB MARKER MINT        12   \n",
       "162570    573160     22077              6 RIBBONS RUSTIC CHARM        12   \n",
       "162571    552321     23204         CHARLOTTE BAG APPLES DESIGN        10   \n",
       "162572    573359     21983    PACK OF 12 BLUE PAISLEY TISSUES          4   \n",
       "\n",
       "               InvoiceDate  UnitPrice  CustomerID         Country  \n",
       "0      2011-08-11 10:14:00       7.46         NaN  United Kingdom  \n",
       "1      2011-03-31 11:25:00       0.42     17365.0  United Kingdom  \n",
       "2      2011-09-25 13:42:00       0.42     15429.0  United Kingdom  \n",
       "3      2011-11-17 15:17:00       5.79         NaN  United Kingdom  \n",
       "4      2011-10-06 15:46:00       4.95     13924.0  United Kingdom  \n",
       "...                    ...        ...         ...             ...  \n",
       "162568 2011-11-03 10:27:00       2.10     16128.0  United Kingdom  \n",
       "162569 2011-03-01 09:33:00       0.65     12428.0         Finland  \n",
       "162570 2011-10-28 08:58:00       1.95     14359.0  United Kingdom  \n",
       "162571 2011-05-09 09:15:00       0.85     17049.0  United Kingdom  \n",
       "162572 2011-10-30 12:48:00       0.39     14178.0  United Kingdom  \n",
       "\n",
       "[162573 rows x 8 columns]"
      ]
     },
     "execution_count": 50,
     "metadata": {},
     "output_type": "execute_result"
    }
   ],
   "source": [
    "df1"
   ]
  },
  {
   "cell_type": "code",
   "execution_count": 51,
   "id": "f32ff3aa",
   "metadata": {},
   "outputs": [],
   "source": [
    "from sklearn.cluster import KMeans"
   ]
  },
  {
   "cell_type": "code",
   "execution_count": 52,
   "id": "e7011c8d",
   "metadata": {},
   "outputs": [],
   "source": [
    "km = KMeans(n_clusters=2)"
   ]
  },
  {
   "cell_type": "code",
   "execution_count": 53,
   "id": "7838457d",
   "metadata": {},
   "outputs": [
    {
     "ename": "AttributeError",
     "evalue": "'KMeans' object has no attribute 'labels_'",
     "output_type": "error",
     "traceback": [
      "\u001b[0;31m---------------------------------------------------------------------------\u001b[0m",
      "\u001b[0;31mAttributeError\u001b[0m                            Traceback (most recent call last)",
      "\u001b[0;32m<ipython-input-53-04043b64b5fc>\u001b[0m in \u001b[0;36m<module>\u001b[0;34m\u001b[0m\n\u001b[0;32m----> 1\u001b[0;31m \u001b[0mkm\u001b[0m\u001b[0;34m.\u001b[0m\u001b[0mlabels_\u001b[0m\u001b[0;34m\u001b[0m\u001b[0;34m\u001b[0m\u001b[0m\n\u001b[0m",
      "\u001b[0;31mAttributeError\u001b[0m: 'KMeans' object has no attribute 'labels_'"
     ]
    }
   ],
   "source": [
    "km.labels_"
   ]
  },
  {
   "cell_type": "code",
   "execution_count": 54,
   "id": "e58247f8",
   "metadata": {},
   "outputs": [
    {
     "ename": "AttributeError",
     "evalue": "'KMeans' object has no attribute 'inertia_'",
     "output_type": "error",
     "traceback": [
      "\u001b[0;31m---------------------------------------------------------------------------\u001b[0m",
      "\u001b[0;31mAttributeError\u001b[0m                            Traceback (most recent call last)",
      "\u001b[0;32m<ipython-input-54-403bf1676d11>\u001b[0m in \u001b[0;36m<module>\u001b[0;34m\u001b[0m\n\u001b[0;32m----> 1\u001b[0;31m \u001b[0mkm\u001b[0m\u001b[0;34m.\u001b[0m\u001b[0minertia_\u001b[0m\u001b[0;34m\u001b[0m\u001b[0;34m\u001b[0m\u001b[0m\n\u001b[0m",
      "\u001b[0;31mAttributeError\u001b[0m: 'KMeans' object has no attribute 'inertia_'"
     ]
    }
   ],
   "source": [
    "km.inertia_"
   ]
  },
  {
   "cell_type": "code",
   "execution_count": null,
   "id": "6888d795",
   "metadata": {},
   "outputs": [],
   "source": []
  }
 ],
 "metadata": {
  "kernelspec": {
   "display_name": "Python 3",
   "language": "python",
   "name": "python3"
  },
  "language_info": {
   "codemirror_mode": {
    "name": "ipython",
    "version": 3
   },
   "file_extension": ".py",
   "mimetype": "text/x-python",
   "name": "python",
   "nbconvert_exporter": "python",
   "pygments_lexer": "ipython3",
   "version": "3.8.8"
  }
 },
 "nbformat": 4,
 "nbformat_minor": 5
}
